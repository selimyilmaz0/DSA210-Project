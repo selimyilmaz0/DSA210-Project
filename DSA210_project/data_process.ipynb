{
 "cells": [
  {
   "cell_type": "code",
   "execution_count": 3,
   "metadata": {},
   "outputs": [],
   "source": [
    "import pandas as pd\n",
    "import os\n",
    "\n",
    "# Create data folder if it doesn't exist\n",
    "os.makedirs(\"data\", exist_ok=True)\n",
    "\n",
    "# Parameters\n",
    "selected_countries = [\"USA\", \"DEU\", \"CAN\", \"GBR\", \"AUS\", \"TUR\", \"MEX\", \"IND\"]\n"
   ]
  },
  {
   "cell_type": "code",
   "execution_count": 4,
   "metadata": {},
   "outputs": [],
   "source": [
    "#GDP\n",
    "years = [str(y) for y in range(1980, 2025)]\n",
    "id_cols = [\"Country Name\", \"Country Code\"]\n",
    "df = pd.read_csv(\"raw_data/GDP.csv\", skiprows=4)\n",
    "df_gdp = df[id_cols + years]\n",
    "df_gdp = df_gdp[df_gdp[\"Country Code\"].isin(selected_countries)]\n",
    "df_gdp = df_gdp.melt(id_vars=id_cols, var_name=\"Year\", value_name=\"GDP\")\n",
    "df_gdp[\"Year\"] = df_gdp[\"Year\"].astype(int)\n",
    "df_gdp = df_gdp.dropna(subset=[\"GDP\"])\n",
    "df_gdp.to_csv(\"data/gdp_selected_1980_2024.csv\", index=False)"
   ]
  },
  {
   "cell_type": "code",
   "execution_count": 5,
   "metadata": {},
   "outputs": [],
   "source": [
    "#GNI per capita\n",
    "years = [str(y) for y in range(1980, 2025)]\n",
    "id_cols = [\"Country Name\", \"Country Code\"]\n",
    "df = pd.read_csv(\"raw_data/GNI_per_capita.csv\", skiprows=4)\n",
    "df_gni = df[id_cols + years]\n",
    "df_gni = df_gni[df_gni[\"Country Code\"].isin(selected_countries)]\n",
    "df_gni = df_gni.melt(id_vars=id_cols, var_name=\"Year\", value_name=\"GNI per Capita\")\n",
    "df_gni[\"Year\"] = df_gni[\"Year\"].astype(int)\n",
    "df_gni = df_gni.dropna(subset=[\"GNI per Capita\"])\n",
    "df_gni.to_csv(\"data/gni_per_capita_selected_1980_2024.csv\", index=False)"
   ]
  },
  {
   "cell_type": "code",
   "execution_count": 11,
   "metadata": {},
   "outputs": [],
   "source": [
    "#Unemployment rate\n",
    "id_cols = [\"Country Name\", \"Country Code\"]\n",
    "unemp_years = [str(y) for y in range(1995, 2020)]\n",
    "df = pd.read_csv(\"raw_data/unemployment.csv\", skiprows=4)\n",
    "df_unemp = df[id_cols + unemp_years]\n",
    "df_unemp = df_unemp[df_unemp[\"Country Code\"].isin(selected_countries)]\n",
    "df_unemp = df_unemp.melt(id_vars=id_cols, var_name=\"Year\", value_name=\"Unemployment Rate\")\n",
    "df_unemp[\"Year\"] = df_unemp[\"Year\"].astype(int)\n",
    "df_unemp = df_unemp.dropna(subset=[\"Unemployment Rate\"])\n",
    "df_unemp.to_csv(\"data/unemployment_selected_1995_2019.csv\", index=False)"
   ]
  },
  {
   "cell_type": "code",
   "execution_count": 8,
   "metadata": {},
   "outputs": [],
   "source": [
    "#Inflation rate\n",
    "years = [str(y) for y in range(1980, 2025)]\n",
    "id_cols = [\"Country Name\", \"Country Code\"]\n",
    "df = pd.read_csv(\"raw_data/Inflation.csv\", skiprows=4)\n",
    "df_inflation = df[id_cols + years]\n",
    "df_inflation = df_inflation[df_inflation[\"Country Code\"].isin(selected_countries)]\n",
    "df_inflation = df_inflation.melt(id_vars=id_cols, var_name=\"Year\", value_name=\"Inflation Rate\")\n",
    "df_inflation[\"Year\"] = df_inflation[\"Year\"].astype(int)\n",
    "df_inflation = df_inflation.dropna(subset=[\"Inflation Rate\"])\n",
    "df_inflation.to_csv(\"data/inflation_selected_1980_2024.csv\", index=False)\n"
   ]
  },
  {
   "cell_type": "code",
   "execution_count": 16,
   "metadata": {},
   "outputs": [],
   "source": [
    "#Net migration\n",
    "years = [str(y) for y in range(1980, 2025)]\n",
    "id_cols = [\"Country Name\", \"Country Code\"]\n",
    "df = pd.read_csv(\"raw_data/net_migration.csv\", skiprows=4)\n",
    "df_migration = df[id_cols + years]\n",
    "df_migration = df_migration[df_migration[\"Country Code\"].isin(selected_countries)]\n",
    "df_migration = df_migration.melt(id_vars=id_cols, var_name=\"Year\", value_name=\"Net Migration\")\n",
    "df_migration[\"Year\"] = df_migration[\"Year\"].astype(int)\n",
    "df_migration = df_migration.dropna(subset=[\"Net Migration\"])\n",
    "df_migration.to_csv(\"data/net_migration_selected_1980_2024.csv\", index=False)"
   ]
  },
  {
   "cell_type": "code",
   "execution_count": 9,
   "metadata": {},
   "outputs": [],
   "source": [
    "#Total population\n",
    "years = [str(y) for y in range(1980, 2025)]\n",
    "id_cols = [\"Country Name\", \"Country Code\"]\n",
    "df = pd.read_csv(\"raw_data/population_total.csv\", skiprows=4)\n",
    "df_population = df[id_cols + years]\n",
    "df_population = df_population[df_population[\"Country Code\"].isin(selected_countries)]\n",
    "df_population = df_population.melt(id_vars=id_cols, var_name=\"Year\", value_name=\"Total Population\")\n",
    "df_population[\"Year\"] = df_population[\"Year\"].astype(int)\n",
    "df_population = df_population.dropna(subset=[\"Total Population\"])\n",
    "df_population.to_csv(\"data/population_selected_1980_2024.csv\", index=False)"
   ]
  },
  {
   "cell_type": "code",
   "execution_count": 10,
   "metadata": {},
   "outputs": [],
   "source": [
    "#Migrant stock\n",
    "year_range = list(range(1980, 2025))\n",
    "\n",
    "df = pd.read_csv(\"raw_data/migrant_stock.csv\")\n",
    "df[\"Year\"] = pd.to_numeric(df[\"Year\"], errors=\"coerce\")\n",
    "df_filtered = df[\n",
    "    (df[\"Country Code\"].isin(selected_countries)) &\n",
    "    (df[\"Year\"].isin(year_range))\n",
    "]\n",
    "df_filtered = df_filtered.dropna(subset=[\"Migrant Stock Total\"])\n",
    "df_filtered.to_csv(\"data/migrant_stock_selected_1980_2024.csv\", index=False)"
   ]
  },
  {
   "cell_type": "code",
   "execution_count": 19,
   "metadata": {},
   "outputs": [],
   "source": [
    "#Education Expenditure\n",
    "years = [str(y) for y in range(1995, 2025)]\n",
    "id_cols = [\"Country Name\", \"Country Code\"]\n",
    "\n",
    "# Load data\n",
    "df = pd.read_csv(\"raw_data/education_exp.csv\", skiprows=4)\n",
    "df_edu = df[id_cols + years]\n",
    "df_edu = df_edu[df_edu[\"Country Code\"].isin(selected_countries)]\n",
    "df_edu = df_edu.melt(id_vars=id_cols, var_name=\"Year\", value_name=\"Education Expenditure (% GDP)\")\n",
    "df_edu[\"Year\"] = df_edu[\"Year\"].astype(int)\n",
    "df_edu = df_edu.dropna(subset=[\"Education Expenditure (% GDP)\"])\n",
    "df_edu.to_csv(\"data/education_expenditure_selected_1980_2024.csv\", index=False)"
   ]
  },
  {
   "cell_type": "code",
   "execution_count": 20,
   "metadata": {},
   "outputs": [],
   "source": [
    "#Health Expenditure\n",
    "years = [str(y) for y in range(1980, 2025)]\n",
    "df = pd.read_csv(\"raw_data/health_exp.csv\", skiprows=4)\n",
    "df_health = df[id_cols + years]\n",
    "df_health = df_health[df_health[\"Country Code\"].isin(selected_countries)]\n",
    "df_health = df_health.melt(id_vars=id_cols, var_name=\"Year\", value_name=\"Health Expenditure (% GDP)\")\n",
    "df_health[\"Year\"] = df_health[\"Year\"].astype(int)\n",
    "df_health = df_health.dropna(subset=[\"Health Expenditure (% GDP)\"])\n",
    "df_health.to_csv(\"data/health_expenditure_selected_1980_2024.csv\", index=False)"
   ]
  },
  {
   "cell_type": "code",
   "execution_count": null,
   "metadata": {},
   "outputs": [],
   "source": [
    "#Life Expectancy\n",
    "years = [str(y) for y in range(1980, 2025)]\n",
    "df = pd.read_csv(\"raw_data/life_expectancy.csv\", skiprows=4)\n",
    "df_life = df[id_cols + years]\n",
    "df_life = df_life[df_life[\"Country Code\"].isin(selected_countries)]\n",
    "df_life = df_life.melt(id_vars=id_cols, var_name=\"Year\", value_name=\"Life Expectancy\")\n",
    "df_life[\"Year\"] = df_life[\"Year\"].astype(int)\n",
    "df_life = df_life.dropna(subset=[\"Life Expectancy\"])\n",
    "df_life.to_csv(\"data/life_expectancy_selected_1980_2024.csv\", index=False)\n"
   ]
  },
  {
   "cell_type": "code",
   "execution_count": null,
   "metadata": {},
   "outputs": [],
   "source": [
    "#Gini Index\n",
    "years = [str(y) for y in range(1980, 2025)]\n",
    "df = pd.read_csv(\"raw_data/gini_index.csv\", skiprows=4)\n",
    "df_gini = df[id_cols + years]\n",
    "df_gini = df_gini[df_gini[\"Country Code\"].isin(selected_countries)]\n",
    "df_gini = df_gini.melt(id_vars=id_cols, var_name=\"Year\", value_name=\"Gini Index\")\n",
    "df_gini[\"Year\"] = df_gini[\"Year\"].astype(int)\n",
    "df_gini = df_gini.dropna(subset=[\"Gini Index\"])\n",
    "df_gini.to_csv(\"data/gini_index_selected_1980_2024.csv\", index=False)\n"
   ]
  }
 ],
 "metadata": {
  "kernelspec": {
   "display_name": "Python 3",
   "language": "python",
   "name": "python3"
  },
  "language_info": {
   "codemirror_mode": {
    "name": "ipython",
    "version": 3
   },
   "file_extension": ".py",
   "mimetype": "text/x-python",
   "name": "python",
   "nbconvert_exporter": "python",
   "pygments_lexer": "ipython3",
   "version": "3.12.3"
  }
 },
 "nbformat": 4,
 "nbformat_minor": 2
}
